{
 "cells": [
  {
   "cell_type": "code",
   "execution_count": 61,
   "metadata": {},
   "outputs": [],
   "source": [
    "path = '/home/hsun/PROMISE_12_RL/data/'"
   ]
  },
  {
   "cell_type": "code",
   "execution_count": 62,
   "metadata": {},
   "outputs": [],
   "source": [
    "import cv2\n",
    "import SimpleITK as sitk\n",
    "import matplotlib.pyplot as plt\n",
    "import numpy as np\n",
    "case = []\n",
    "name_itself= []\n",
    "name_last = []\n",
    "name_next = []\n",
    "name_list = []\n",
    "name_opt_flow = []\n",
    "name_opt_flow_r = []\n",
    "def crop(img,lenth=256):\n",
    "    lenth_case = img.shape[1]\n",
    "    if lenth_case>=lenth:#图像边长大于参数lenth\n",
    "        lb = round(lenth_case/2)-round(lenth/2)\n",
    "        ub = round(lenth_case/2)+round(lenth/2)\n",
    "    return img[:,lb:ub,lb:ub]\n",
    "\n",
    "for i in range(50):\n",
    "    if i<=9:\n",
    "        file_path = path + 'Case0' + str(i) + '.mhd'\n",
    "        seg_path = path + 'Case0' + str(i) + '_segmentation.mhd'\n",
    "        image = sitk.ReadImage(file_path)\n",
    "        image = sitk.GetArrayFromImage(image)\n",
    "        image = np.asarray(image)\n",
    "        image = crop(image)\n",
    "        seg = sitk.ReadImage(seg_path)\n",
    "        seg = sitk.GetArrayFromImage(seg)\n",
    "        seg = np.asarray(seg)\n",
    "        seg = crop(seg)\n",
    "        for j in range(len(image)):\n",
    "            np.save('/home/hsun/PROMISE_12_RL/npy256data/Case'+ str(i)+'lyr'+str(j)+'.npy',image[j])\n",
    "            np.save('/home/hsun/PROMISE_12_RL/npy256data/Case'+ str(i)+'lyr'+str(j)+'_seg.npy',seg[j])\n",
    "            name_list.append('/home/hsun/PROMISE_12_RL/npy256data/Case'+ str(i)+'lyr'+str(j)+'.npy')\n",
    "            if j>0 and j<len(image)-1:\n",
    "                name_itself.append('/home/hsun/PROMISE_12_RL/npy256data/Case'+ str(i)+'lyr'+str(j)+'.npy')\n",
    "                name_last.append('/home/hsun/PROMISE_12_RL/npy256data/Case'+ str(i)+'lyr'+str(j-1)+'.npy')\n",
    "                name_next.append('/home/hsun/PROMISE_12_RL/npy256data/Case'+ str(i)+'lyr'+str(j+1)+'.npy')\n",
    "                name_opt_flow.append('/home/hsun/PROMISE_12_RL/npy256data/Flow/Case'+ str(i)+'lyr'+str(j)+'_optic_flow.flo')\n",
    "                name_opt_flow_r.append('/home/hsun/PROMISE_12_RL/npy256data/Flow/Case'+ str(i)+'lyr'+str(j)+'_optic_flow.rflo')\n",
    "        j_list.append(j+1)\n",
    "\n",
    "        \n",
    "    else:\n",
    "        file_path = path + 'Case' + str(i) + '.mhd'\n",
    "        seg_path = path + 'Case' + str(i) + '_segmentation.mhd'\n",
    "        image = sitk.ReadImage(file_path)\n",
    "        image = sitk.GetArrayFromImage(image)\n",
    "        image = np.asarray(image)\n",
    "        image = crop(image)\n",
    "        seg = sitk.ReadImage(seg_path)\n",
    "        seg = sitk.GetArrayFromImage(seg)\n",
    "        seg = np.asarray(seg)\n",
    "        seg = crop(seg)\n",
    "        for j in range(len(image)):\n",
    "            np.save('/home/hsun/PROMISE_12_RL/npy256data/Case'+ str(i)+'lyr'+str(j)+'.npy',image[j])\n",
    "            np.save('/home/hsun/PROMISE_12_RL/npy256data/Case'+ str(i)+'lyr'+str(j)+'_seg.npy',seg[j])\n",
    "            name_list.append('/home/hsun/PROMISE_12_RL/npy256data/Case'+ str(i)+'lyr'+str(j)+'.npy')\n",
    "            if j>0 and j<len(image)-1:\n",
    "                name_itself.append('/home/hsun/PROMISE_12_RL/npy256data/Case'+ str(i)+'lyr'+str(j)+'.npy')\n",
    "                name_last.append('/home/hsun/PROMISE_12_RL/npy256data/Case'+ str(i)+'lyr'+str(j-1)+'.npy')\n",
    "                name_next.append('/home/hsun/PROMISE_12_RL/npy256data/Case'+ str(i)+'lyr'+str(j+1)+'.npy')\n",
    "                name_opt_flow.append('/home/hsun/PROMISE_12_RL/npy256data/Flow/Case'+ str(i)+'lyr'+str(j)+'_optic_flow.flo')\n",
    "                name_opt_flow_r.append('/home/hsun/PROMISE_12_RL/npy256data/Flow/Case'+ str(i)+'lyr'+str(j)+'_optic_flow.rflo')\n",
    "        j_list.append(j+1)\n",
    "\n",
    "\n",
    "    case.append(np.stack([image,seg]))"
   ]
  },
  {
   "cell_type": "code",
   "execution_count": 57,
   "metadata": {},
   "outputs": [
    {
     "data": {
      "text/plain": [
       "(1277,)"
      ]
     },
     "execution_count": 57,
     "metadata": {},
     "output_type": "execute_result"
    }
   ],
   "source": [
    "np.shape(name_itself)"
   ]
  },
  {
   "cell_type": "code",
   "execution_count": 58,
   "metadata": {},
   "outputs": [
    {
     "data": {
      "text/plain": [
       "(4, 1277)"
      ]
     },
     "execution_count": 58,
     "metadata": {},
     "output_type": "execute_result"
    }
   ],
   "source": [
    "np.shape(np.vstack([name_itself,name_last,name_next,name_opt_flow]))"
   ]
  },
  {
   "cell_type": "code",
   "execution_count": 59,
   "metadata": {},
   "outputs": [
    {
     "data": {
      "text/plain": [
       "array([['/home/hsun/PROMISE_12_RL/npy256data/Case0lyr1.npy',\n",
       "        '/home/hsun/PROMISE_12_RL/npy256data/Case0lyr0.npy',\n",
       "        '/home/hsun/PROMISE_12_RL/npy256data/Case0lyr2.npy',\n",
       "        '/home/hsun/PROMISE_12_RL/npy256data/Flow/Case0lyr1_optic_flow.flo',\n",
       "        '/home/hsun/PROMISE_12_RL/npy256data/Flow/Case0lyr1_optic_flow.rflo'],\n",
       "       ['/home/hsun/PROMISE_12_RL/npy256data/Case0lyr2.npy',\n",
       "        '/home/hsun/PROMISE_12_RL/npy256data/Case0lyr1.npy',\n",
       "        '/home/hsun/PROMISE_12_RL/npy256data/Case0lyr3.npy',\n",
       "        '/home/hsun/PROMISE_12_RL/npy256data/Flow/Case0lyr2_optic_flow.flo',\n",
       "        '/home/hsun/PROMISE_12_RL/npy256data/Flow/Case0lyr2_optic_flow.rflo'],\n",
       "       ['/home/hsun/PROMISE_12_RL/npy256data/Case0lyr3.npy',\n",
       "        '/home/hsun/PROMISE_12_RL/npy256data/Case0lyr2.npy',\n",
       "        '/home/hsun/PROMISE_12_RL/npy256data/Case0lyr4.npy',\n",
       "        '/home/hsun/PROMISE_12_RL/npy256data/Flow/Case0lyr3_optic_flow.flo',\n",
       "        '/home/hsun/PROMISE_12_RL/npy256data/Flow/Case0lyr3_optic_flow.rflo'],\n",
       "       ...,\n",
       "       ['/home/hsun/PROMISE_12_RL/npy256data/Case49lyr20.npy',\n",
       "        '/home/hsun/PROMISE_12_RL/npy256data/Case49lyr19.npy',\n",
       "        '/home/hsun/PROMISE_12_RL/npy256data/Case49lyr21.npy',\n",
       "        '/home/hsun/PROMISE_12_RL/npy256data/Flow/Case49lyr20_optic_flow.flo',\n",
       "        '/home/hsun/PROMISE_12_RL/npy256data/Flow/Case49lyr20_optic_flow.rflo'],\n",
       "       ['/home/hsun/PROMISE_12_RL/npy256data/Case49lyr21.npy',\n",
       "        '/home/hsun/PROMISE_12_RL/npy256data/Case49lyr20.npy',\n",
       "        '/home/hsun/PROMISE_12_RL/npy256data/Case49lyr22.npy',\n",
       "        '/home/hsun/PROMISE_12_RL/npy256data/Flow/Case49lyr21_optic_flow.flo',\n",
       "        '/home/hsun/PROMISE_12_RL/npy256data/Flow/Case49lyr21_optic_flow.rflo'],\n",
       "       ['/home/hsun/PROMISE_12_RL/npy256data/Case49lyr22.npy',\n",
       "        '/home/hsun/PROMISE_12_RL/npy256data/Case49lyr21.npy',\n",
       "        '/home/hsun/PROMISE_12_RL/npy256data/Case49lyr23.npy',\n",
       "        '/home/hsun/PROMISE_12_RL/npy256data/Flow/Case49lyr22_optic_flow.flo',\n",
       "        '/home/hsun/PROMISE_12_RL/npy256data/Flow/Case49lyr22_optic_flow.rflo']],\n",
       "      dtype='<U68')"
      ]
     },
     "execution_count": 59,
     "metadata": {},
     "output_type": "execute_result"
    }
   ],
   "source": [
    "np.vstack([name_itself,name_last,name_next,name_opt_flow,name_opt_flow_r]).T"
   ]
  },
  {
   "cell_type": "code",
   "execution_count": 63,
   "metadata": {},
   "outputs": [],
   "source": [
    "np.savetxt(X=np.vstack([name_itself,name_last,name_next,name_opt_flow,name_opt_flow_r]).T,fmt = '%s',fname='fname_lst_nxt_out.txt')"
   ]
  },
  {
   "cell_type": "code",
   "execution_count": 53,
   "metadata": {},
   "outputs": [
    {
     "data": {
      "text/plain": [
       "(24, 256, 256)"
      ]
     },
     "execution_count": 53,
     "metadata": {},
     "output_type": "execute_result"
    }
   ],
   "source": [
    "image.shape"
   ]
  },
  {
   "cell_type": "code",
   "execution_count": 54,
   "metadata": {},
   "outputs": [],
   "source": [
    "d = np.load(\"/home/hsun/PROMISE_12_RL/npy256data/Case0lyr2.npy\")"
   ]
  },
  {
   "cell_type": "code",
   "execution_count": 55,
   "metadata": {},
   "outputs": [
    {
     "data": {
      "text/plain": [
       "(256, 256)"
      ]
     },
     "execution_count": 55,
     "metadata": {},
     "output_type": "execute_result"
    }
   ],
   "source": [
    "d.shape"
   ]
  },
  {
   "cell_type": "code",
   "execution_count": null,
   "metadata": {},
   "outputs": [],
   "source": []
  }
 ],
 "metadata": {
  "kernelspec": {
   "display_name": "Python 3",
   "language": "python",
   "name": "python3"
  },
  "language_info": {
   "codemirror_mode": {
    "name": "ipython",
    "version": 3
   },
   "file_extension": ".py",
   "mimetype": "text/x-python",
   "name": "python",
   "nbconvert_exporter": "python",
   "pygments_lexer": "ipython3",
   "version": "3.6.5"
  }
 },
 "nbformat": 4,
 "nbformat_minor": 2
}
